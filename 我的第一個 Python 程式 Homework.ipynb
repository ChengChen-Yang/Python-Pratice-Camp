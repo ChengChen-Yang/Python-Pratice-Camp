{
 "cells": [
  {
   "cell_type": "markdown",
   "metadata": {
    "colab_type": "text",
    "id": "P6xk2_jLsvFF"
   },
   "source": [
    "# [作業目標]\n",
    "\n",
    "1. 請設定三個變數值「name」、「birth」、「job」，分別指定成「名字」、「出生年份」及「工作」，並且印出成下列輸出：\n",
    "\n",
    "```\n",
    "Hello World, 我的名字是 OOO\n",
    "我今年 OO 歲，目前的工作是 OOO\n",
    "學習 Python 的目標是： OOO。\n",
    "```\n",
    "\n",
    "2. 攝氏溫標是目前世界上最常用的溫標，而在美國則是使用華氏溫標為主，假設現在是攝氏 C 度，則華氏 F 度可以表示成 F=C*9/5+32。現在給你攝氏的溫度，請問你它是華氏幾度？\n",
    "\n",
    "    * 使用者需要定義 C 跟 F 兩個變數，分別代表華氏溫度和攝氏溫度\n",
    "    * 變數 C 由使用者輸入，變數 F 由程式計算產生\n",
    "\n",
    "\n",
    "\n"
   ]
  },
  {
   "cell_type": "markdown",
   "metadata": {
    "colab_type": "text",
    "id": "uXGll28asvFS"
   },
   "source": [
    "# 作業 "
   ]
  },
  {
   "cell_type": "markdown",
   "metadata": {},
   "source": [
    "### 1. 請設定三個變數值「name」、「birth」、「job」，分別指定成「名字」、「出生年份」及「工作」，並且印出成下列輸出：\n",
    "\n",
    "```\n",
    "Hello World, 我的名字是 OOO\n",
    "我今年 OO 歲，目前的工作是 OOO\n",
    "學習 Python 的目標是： OOO。\n",
    "```"
   ]
  },
  {
   "cell_type": "code",
   "execution_count": 39,
   "metadata": {
    "colab": {},
    "colab_type": "code",
    "id": "5QrYoyNWsvFS"
   },
   "outputs": [
    {
     "name": "stdout",
     "output_type": "stream",
     "text": [
      "Hello World, 我的名字是 Peter\n",
      "我今年 30 歲, 目前工作是 Engineer\n",
      "學習 Python 的目標是： Change career to data engineer 。\n"
     ]
    }
   ],
   "source": [
    "name = 'Peter'\n",
    "birth = 1991\n",
    "job = 'Engineer'\n",
    "purpose = 'Change career to data engineer '\n",
    "\n",
    "print(f'Hello World, 我的名字是 {name}') \n",
    "print(f'我今年 {2021-birth} 歲, 目前工作是 {job}')     \n",
    "print(f'學習 Python 的目標是： {purpose}。')     \n"
   ]
  },
  {
   "cell_type": "markdown",
   "metadata": {},
   "source": [
    "### 2. 攝氏溫標是目前世界上最常用的溫標，而在美國則是使用華氏溫標為主，假設現在是攝氏 C 度，則華氏 F 度可以表示成 F=C*9/5+32。現在給你攝氏的溫度，請問你它是華氏幾度？\n",
    "\n",
    "* 使用者需要定義 C 跟 F 兩個變數，分別代表華氏溫度和攝氏溫度\n",
    "* 變數 C 由使用者輸入，變數 F 由程式計算產生\n"
   ]
  },
  {
   "cell_type": "code",
   "execution_count": 55,
   "metadata": {
    "colab": {},
    "colab_type": "code",
    "id": "e1gVI0tvsvFY"
   },
   "outputs": [],
   "source": [
    "def F(C):\n",
    "    f = C*9/5+32\n",
    "    print(f'The {C} degrees Celius is {f} degrees Fahrenheit.')"
   ]
  },
  {
   "cell_type": "code",
   "execution_count": 56,
   "metadata": {},
   "outputs": [
    {
     "name": "stdout",
     "output_type": "stream",
     "text": [
      "The 30 degrees Celius is 86.0 degrees Fahrenheit.\n"
     ]
    }
   ],
   "source": [
    "F(30)"
   ]
  },
  {
   "cell_type": "code",
   "execution_count": null,
   "metadata": {},
   "outputs": [],
   "source": []
  }
 ],
 "metadata": {
  "colab": {
   "name": "Day_023_HW.ipynb",
   "provenance": []
  },
  "kernelspec": {
   "display_name": "Python 3",
   "language": "python",
   "name": "python3"
  },
  "language_info": {
   "codemirror_mode": {
    "name": "ipython",
    "version": 3
   },
   "file_extension": ".py",
   "mimetype": "text/x-python",
   "name": "python",
   "nbconvert_exporter": "python",
   "pygments_lexer": "ipython3",
   "version": "3.7.6"
  }
 },
 "nbformat": 4,
 "nbformat_minor": 1
}
