{
 "cells": [
  {
   "cell_type": "markdown",
   "metadata": {
    "colab_type": "text",
    "id": "P6xk2_jLsvFF"
   },
   "source": [
    "# [作業目標]\n",
    "\n",
    "1. Write a Python program to get a string made of the first 2 and the last 2 chars from a given a string. If the string length is less than 2, return instead of the empty string.\n",
    "\n",
    "    * Sample Input: w3resource\n",
    "    * Sample Output: w3ce\n",
    "\n",
    "\n",
    "2. 一個網址的結構大概如圖所示，試著用 Python 分別把每個值取出來。\n",
    "\n"
   ]
  },
  {
   "cell_type": "markdown",
   "metadata": {
    "colab_type": "text",
    "id": "uXGll28asvFS"
   },
   "source": [
    "# 作業 "
   ]
  },
  {
   "cell_type": "markdown",
   "metadata": {},
   "source": [
    "### 1. Write a Python program to get a string made of the first 2 and the last 2 chars from a given a string. If the string length is less than 2, return instead of the empty string.\n",
    "\n",
    "* Sample Input: w3resource\n",
    "* Sample Output: w3ce\n"
   ]
  },
  {
   "cell_type": "code",
   "execution_count": 10,
   "metadata": {
    "colab": {},
    "colab_type": "code",
    "id": "5QrYoyNWsvFS"
   },
   "outputs": [],
   "source": [
    "def clipper(text):\n",
    "    if len(text) <= 2:\n",
    "        print(text)\n",
    "    else:\n",
    "        a = text[:2]\n",
    "        b = text[-2:]\n",
    "        c = text[:2]+text[-2:]\n",
    "        print('Sample Output:', c)"
   ]
  },
  {
   "cell_type": "code",
   "execution_count": 11,
   "metadata": {},
   "outputs": [
    {
     "name": "stdout",
     "output_type": "stream",
     "text": [
      "Sample Output: sach\n"
     ]
    }
   ],
   "source": [
    "clipper('sandwich')"
   ]
  },
  {
   "cell_type": "code",
   "execution_count": 12,
   "metadata": {},
   "outputs": [
    {
     "name": "stdout",
     "output_type": "stream",
     "text": [
      "Sample Input:sandwich\n",
      "Sample Output: sach\n"
     ]
    }
   ],
   "source": [
    "text = input('Sample Input:')\n",
    "if len(text) <= 2:\n",
    "        print(text)\n",
    "else:\n",
    "    a = text[:2]\n",
    "    b = text[-2:]\n",
    "    c = text[:2]+text[-2:]\n",
    "    print('Sample Output:', c)"
   ]
  },
  {
   "cell_type": "markdown",
   "metadata": {},
   "source": [
    "### 2. 一個網址的結構大概如圖所示，試著用 Python 分別把每個值取出來。\n"
   ]
  },
  {
   "cell_type": "code",
   "execution_count": 53,
   "metadata": {
    "colab": {},
    "colab_type": "code",
    "id": "e1gVI0tvsvFY",
    "scrolled": false
   },
   "outputs": [
    {
     "name": "stdout",
     "output_type": "stream",
     "text": [
      "protocol : https\n",
      "domain : www.trivago.com.tw:\n",
      "port : 3000\n",
      "path : search\n",
      "fragment : taipei\n"
     ]
    }
   ],
   "source": [
    "url = 'https://www.trivago.com.tw:3000/search#taipei'\n",
    "url = url.replace('//','_')\n",
    "url = url.replace('/','_')\n",
    "url = url.replace('#','_')\n",
    "url = url.split('_')\n",
    "protocol = url[0].split(':')[0]\n",
    "domain = url[1][0:19]\n",
    "port = url[1][-4:]\n",
    "path = url[2]\n",
    "fragment = url[-1]\n",
    "print('protocol : %s' % (protocol)) # https\n",
    "print('domain : %s' % (domain)) # www.trivago.com.tw:\n",
    "print('port : %s' % (port)) # 3000\n",
    "print('path : %s' % (path)) # search\n",
    "print('fragment : %s' % (fragment)) # taipei"
   ]
  }
 ],
 "metadata": {
  "colab": {
   "name": "Day_023_HW.ipynb",
   "provenance": []
  },
  "kernelspec": {
   "display_name": "Python 3",
   "language": "python",
   "name": "python3"
  },
  "language_info": {
   "codemirror_mode": {
    "name": "ipython",
    "version": 3
   },
   "file_extension": ".py",
   "mimetype": "text/x-python",
   "name": "python",
   "nbconvert_exporter": "python",
   "pygments_lexer": "ipython3",
   "version": "3.7.6"
  }
 },
 "nbformat": 4,
 "nbformat_minor": 1
}
