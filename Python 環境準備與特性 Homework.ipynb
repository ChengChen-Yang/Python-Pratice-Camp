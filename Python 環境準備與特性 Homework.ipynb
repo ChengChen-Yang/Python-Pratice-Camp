{
 "cells": [
  {
   "cell_type": "markdown",
   "metadata": {
    "colab_type": "text",
    "id": "P6xk2_jLsvFF"
   },
   "source": [
    "# [作業目標]\n",
    "\n",
    "- 請在 Jupyter 程式碼當中執行以下程式碼，並回答以下問題：\n",
    "\n",
    "```\n",
    "print('Hello World')\n",
    "import os\n",
    "os.getcwd()\n",
    "```\n",
    "\n",
    "1. 請問下列三行程式碼，分別做了什麼事情？\n",
    "2. 請問有使用 print() 的 沒有使用 print()  的印出有什麼差異？\n"
   ]
  },
  {
   "cell_type": "markdown",
   "metadata": {
    "colab_type": "text",
    "id": "uXGll28asvFS"
   },
   "source": [
    "# 作業 "
   ]
  },
  {
   "cell_type": "code",
   "execution_count": 1,
   "metadata": {
    "colab": {},
    "colab_type": "code",
    "id": "5QrYoyNWsvFS"
   },
   "outputs": [
    {
     "name": "stdout",
     "output_type": "stream",
     "text": [
      "Hello World\n"
     ]
    },
    {
     "data": {
      "text/plain": [
       "'D:\\\\pycharm\\\\Python Practice Camp\\\\Day_001'"
      ]
     },
     "execution_count": 1,
     "metadata": {},
     "output_type": "execute_result"
    }
   ],
   "source": [
    "print('Hello World')\n",
    "import os\n",
    "os.getcwd()"
   ]
  },
  {
   "cell_type": "markdown",
   "metadata": {},
   "source": [
    "### 1. 請問這三行程式碼，分別做了什麼事情？"
   ]
  },
  {
   "cell_type": "code",
   "execution_count": null,
   "metadata": {
    "colab": {},
    "colab_type": "code",
    "id": "e1gVI0tvsvFY"
   },
   "outputs": [],
   "source": [
    "'''\n",
    "print('Hello World')\n",
    "列印出 '' 中的 字串\n",
    "'''\n",
    "\n",
    "'''\n",
    "import os\n",
    "\n",
    "導入module\n",
    "'''\n",
    "\n",
    "'''\n",
    "使用 os module 中的getcwd取得本文本的絕對路徑\n",
    "'''"
   ]
  },
  {
   "cell_type": "markdown",
   "metadata": {},
   "source": [
    "### 2. 請問有使用 print() 的 沒有使用 print() 的印出有什麼差異？"
   ]
  },
  {
   "cell_type": "code",
   "execution_count": 2,
   "metadata": {},
   "outputs": [
    {
     "data": {
      "text/plain": [
       "'\\n不使用print，雖然也能顯示\"結果\"，但不能對其做其他變動換調整，亦只能在該cell最後一行才有顯示效果(output)\\n'"
      ]
     },
     "execution_count": 2,
     "metadata": {},
     "output_type": "execute_result"
    }
   ],
   "source": [
    "'''\n",
    "使用print可以提供附加的顯示效果或是輸出函式運算結果，且不限於在該cell的最後一行才有顯示效果(output)\n",
    "'''\n",
    "\n",
    "'''\n",
    "不使用print，雖然也能顯示\"結果\"，但不能對其做其他變動換調整，亦只能在該cell最後一行才有顯示效果(output)\n",
    "'''"
   ]
  }
 ],
 "metadata": {
  "colab": {
   "name": "Day_023_HW.ipynb",
   "provenance": []
  },
  "kernelspec": {
   "display_name": "Python 3",
   "language": "python",
   "name": "python3"
  },
  "language_info": {
   "codemirror_mode": {
    "name": "ipython",
    "version": 3
   },
   "file_extension": ".py",
   "mimetype": "text/x-python",
   "name": "python",
   "nbconvert_exporter": "python",
   "pygments_lexer": "ipython3",
   "version": "3.7.6"
  }
 },
 "nbformat": 4,
 "nbformat_minor": 1
}
