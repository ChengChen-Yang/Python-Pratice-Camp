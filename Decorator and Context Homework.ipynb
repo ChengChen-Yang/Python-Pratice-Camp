{
 "cells": [
  {
   "cell_type": "markdown",
   "metadata": {
    "colab_type": "text",
    "id": "P6xk2_jLsvFF"
   },
   "source": [
    "# [作業目標]\n",
    "\n",
    "\n",
    "1. [簡答題] 請列舉幾個可以用 decorator 或 context 使用的情境？\n",
    "\n",
    "2. 如何使用 decorator 讓程式執行 foo(...) 前執行 a(...)、b(...) 兩段程式：\n",
    "\n",
    "```\n",
    "def a(f):\n",
    "    print('a() is called')\n",
    "    return\n",
    "\n",
    "def b(f):\n",
    "    print('b() is called')\n",
    "    return\n",
    "\n",
    "def f():\n",
    "    return \"hello world\"\n",
    "```\n",
    "\n"
   ]
  },
  {
   "cell_type": "markdown",
   "metadata": {
    "colab_type": "text",
    "id": "uXGll28asvFS"
   },
   "source": [
    "# 作業 "
   ]
  },
  {
   "cell_type": "markdown",
   "metadata": {},
   "source": [
    "### 1. [簡答題] 請列舉幾個可以用 decorator 或 context 使用的情境？\n"
   ]
  },
  {
   "cell_type": "markdown",
   "metadata": {},
   "source": [
    "* 檢視程式碼的運作時間\n",
    "* 程式碼的性能測試\n",
    "* 刪除文件(緩存)"
   ]
  },
  {
   "cell_type": "markdown",
   "metadata": {},
   "source": [
    "### 2. 如何使用 decorator 讓程式執行 foo(...) 前執行 a(...)、b(...) 兩段程式：\n",
    "\n",
    "```\n",
    "def a(f):\n",
    "    print('a() is called')\n",
    "    return\n",
    "\n",
    "def b(f):\n",
    "    print('b() is called')\n",
    "    return\n",
    "\n",
    "def f():\n",
    "    return \"hello world\"\n",
    "```"
   ]
  },
  {
   "cell_type": "code",
   "execution_count": 11,
   "metadata": {},
   "outputs": [
    {
     "name": "stdout",
     "output_type": "stream",
     "text": [
      "a() is called\n",
      "b() is called\n"
     ]
    },
    {
     "data": {
      "text/plain": [
       "'hello world'"
      ]
     },
     "execution_count": 11,
     "metadata": {},
     "output_type": "execute_result"
    }
   ],
   "source": [
    "def a(f):\n",
    "    def wrapper():\n",
    "        print('a() is called')\n",
    "        return  f()\n",
    "    return wrapper\n",
    "\n",
    "def b(f):\n",
    "    def wrapper():\n",
    "        print('b() is called')\n",
    "        return f()\n",
    "    return wrapper\n",
    "\n",
    "@a\n",
    "@b\n",
    "def f():\n",
    "    return \"hello world\"\n",
    "f()"
   ]
  },
  {
   "cell_type": "code",
   "execution_count": null,
   "metadata": {},
   "outputs": [],
   "source": []
  },
  {
   "cell_type": "code",
   "execution_count": null,
   "metadata": {},
   "outputs": [],
   "source": []
  }
 ],
 "metadata": {
  "colab": {
   "name": "Day_023_HW.ipynb",
   "provenance": []
  },
  "kernelspec": {
   "display_name": "Python 3 (ipykernel)",
   "language": "python",
   "name": "python3"
  },
  "language_info": {
   "codemirror_mode": {
    "name": "ipython",
    "version": 3
   },
   "file_extension": ".py",
   "mimetype": "text/x-python",
   "name": "python",
   "nbconvert_exporter": "python",
   "pygments_lexer": "ipython3",
   "version": "3.8.8"
  },
  "toc": {
   "base_numbering": 1,
   "nav_menu": {},
   "number_sections": true,
   "sideBar": true,
   "skip_h1_title": false,
   "title_cell": "Table of Contents",
   "title_sidebar": "Contents",
   "toc_cell": false,
   "toc_position": {},
   "toc_section_display": true,
   "toc_window_display": false
  },
  "varInspector": {
   "cols": {
    "lenName": 16,
    "lenType": 16,
    "lenVar": 40
   },
   "kernels_config": {
    "python": {
     "delete_cmd_postfix": "",
     "delete_cmd_prefix": "del ",
     "library": "var_list.py",
     "varRefreshCmd": "print(var_dic_list())"
    },
    "r": {
     "delete_cmd_postfix": ") ",
     "delete_cmd_prefix": "rm(",
     "library": "var_list.r",
     "varRefreshCmd": "cat(var_dic_list()) "
    }
   },
   "types_to_exclude": [
    "module",
    "function",
    "builtin_function_or_method",
    "instance",
    "_Feature"
   ],
   "window_display": false
  }
 },
 "nbformat": 4,
 "nbformat_minor": 1
}
