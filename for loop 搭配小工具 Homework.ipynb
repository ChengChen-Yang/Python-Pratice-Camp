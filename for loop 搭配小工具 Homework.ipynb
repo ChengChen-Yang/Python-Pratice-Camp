{
 "cells": [
  {
   "cell_type": "markdown",
   "metadata": {
    "id": "P6xk2_jLsvFF"
   },
   "source": [
    "# [作業目標]\n",
    "\n",
    "\n",
    "1. 請將一個字典的 Key 和 Value 對調，例如：\n",
    "\n",
    "  * 輸入：{\"name\": \"qiwsir\", \"site\": \"qiwsir.github.io\", \"lang\": \"python\"}\n",
    "  * 輸出：{\"qiwsir\": \"name\", \"qiwsir.github.io\": \"site\", \"python\": \"lang\"}\n",
    "\n",
    "\n",
    "2. 有兩個由 Dictionary 所組成的 List，請問如何依照相同 index 合併成一個 List。\n",
    "\n",
    "\n"
   ]
  },
  {
   "cell_type": "markdown",
   "metadata": {
    "id": "uXGll28asvFS"
   },
   "source": [
    "# 作業 "
   ]
  },
  {
   "cell_type": "markdown",
   "metadata": {
    "id": "5EuFjUvwBBeO"
   },
   "source": [
    "### 1. 請將一個字典的 Key 和 Value 對調，例如：\n",
    "\n",
    "* 輸入：{\"name\": \"qiwsir\", \"site\": \"qiwsir.github.io\", \"lang\": \"python\"}\n",
    "* 輸出：{\"qiwsir\": \"name\", \"qiwsir.github.io\": \"site\", \"python\": \"lang\"}"
   ]
  },
  {
   "cell_type": "code",
   "execution_count": 1,
   "metadata": {
    "id": "jsS7JEAFBBeO"
   },
   "outputs": [
    {
     "name": "stdout",
     "output_type": "stream",
     "text": [
      "{'qiwsir': 'name', 'qiwsir.github.io': 'site', 'python': 'lang'}\n"
     ]
    }
   ],
   "source": [
    "dic = {\"name\": \"qiwsir\", \"site\": \"qiwsir.github.io\", \"lang\": \"python\"}\n",
    "dic.keys()\n",
    "dic.values()\n",
    "new_dic={}\n",
    "for key,value in zip(dic.keys(),dic.values()):\n",
    "    a = key\n",
    "    b = value\n",
    "    new_dic[b] = a\n",
    "print(new_dic)\n"
   ]
  },
  {
   "cell_type": "markdown",
   "metadata": {
    "id": "vAOXJMPWBBeP"
   },
   "source": [
    "### 2. 有兩個由 Dictionary 所組成的 List，請問如何依照相同 index 合併成一個 List。"
   ]
  },
  {
   "cell_type": "code",
   "execution_count": 2,
   "metadata": {
    "id": "wJYQZ8arBBeP"
   },
   "outputs": [
    {
     "name": "stdout",
     "output_type": "stream",
     "text": [
      "[{'name': 'Mark', 'sex': 'male', 'age': 16}, {'name': 'Mary', 'sex': 'female', 'age': 18}]\n"
     ]
    }
   ],
   "source": [
    "a = [{'name': 'Mark', 'sex': 'male'}, {'name': 'Mary', 'sex': 'female'}]\n",
    "b = [{'age': 16}, {'age': 18}]\n",
    "L = []\n",
    "\n",
    "for A, B in zip(a,b):\n",
    "    for key, value in B.items():\n",
    "        A[key]=value\n",
    "        L.append(A)\n",
    "\n",
    "print(L) # [{'name': 'Mark', 'sex': 'male', 'age': 16}, {'name': 'Mary', 'sex': 'female', 'age': 18}]"
   ]
  },
  {
   "cell_type": "code",
   "execution_count": null,
   "metadata": {},
   "outputs": [],
   "source": []
  }
 ],
 "metadata": {
  "colab": {
   "name": "13 Homework.ipynb",
   "provenance": []
  },
  "kernelspec": {
   "display_name": "Python 3 (ipykernel)",
   "language": "python",
   "name": "python3"
  },
  "language_info": {
   "codemirror_mode": {
    "name": "ipython",
    "version": 3
   },
   "file_extension": ".py",
   "mimetype": "text/x-python",
   "name": "python",
   "nbconvert_exporter": "python",
   "pygments_lexer": "ipython3",
   "version": "3.8.8"
  },
  "toc": {
   "base_numbering": 1,
   "nav_menu": {},
   "number_sections": true,
   "sideBar": true,
   "skip_h1_title": false,
   "title_cell": "Table of Contents",
   "title_sidebar": "Contents",
   "toc_cell": false,
   "toc_position": {},
   "toc_section_display": true,
   "toc_window_display": false
  },
  "varInspector": {
   "cols": {
    "lenName": 16,
    "lenType": 16,
    "lenVar": 40
   },
   "kernels_config": {
    "python": {
     "delete_cmd_postfix": "",
     "delete_cmd_prefix": "del ",
     "library": "var_list.py",
     "varRefreshCmd": "print(var_dic_list())"
    },
    "r": {
     "delete_cmd_postfix": ") ",
     "delete_cmd_prefix": "rm(",
     "library": "var_list.r",
     "varRefreshCmd": "cat(var_dic_list()) "
    }
   },
   "types_to_exclude": [
    "module",
    "function",
    "builtin_function_or_method",
    "instance",
    "_Feature"
   ],
   "window_display": false
  }
 },
 "nbformat": 4,
 "nbformat_minor": 1
}
