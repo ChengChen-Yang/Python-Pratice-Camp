{
 "cells": [
  {
   "cell_type": "markdown",
   "metadata": {
    "colab_type": "text",
    "id": "P6xk2_jLsvFF"
   },
   "source": [
    "# [作業目標]\n",
    "\n",
    "1. 將以下變數設置為相應的數值：\n",
    "\n",
    "    * my_int to the value 7\n",
    "    * my_float to the value 1.23\n",
    "    * my_bool to the value True\n",
    "    * my_Int to the value 3\n",
    "\n",
    "\n",
    "2. 請利用定義的變數運行以下操作，並解釋結果為何\n",
    "\n",
    "```\n",
    "print(my_int == my_Int)\n",
    "print(my_int != my_Int)\n",
    "print(type(my_int))\n",
    "print(type(my_float))\n",
    "print(type(my_bool)) \n",
    "```\n",
    "\n",
    "\n"
   ]
  },
  {
   "cell_type": "markdown",
   "metadata": {
    "colab_type": "text",
    "id": "uXGll28asvFS"
   },
   "source": [
    "# 作業 "
   ]
  },
  {
   "cell_type": "markdown",
   "metadata": {},
   "source": [
    "### 1. 將以下變數設置為相應的數值：\n",
    "\n",
    "* my_int to the value 7\n",
    "* my_float to the value 1.23\n",
    "* my_bool to the value True\n",
    "* my_Int to the value 3\n"
   ]
  },
  {
   "cell_type": "code",
   "execution_count": 15,
   "metadata": {
    "colab": {},
    "colab_type": "code",
    "id": "5QrYoyNWsvFS"
   },
   "outputs": [],
   "source": [
    "my_int = 7\n",
    "my_float = 1.23\n",
    "my_bool = True\n",
    "my_Int = 3"
   ]
  },
  {
   "cell_type": "markdown",
   "metadata": {},
   "source": [
    "### 2. 請利用定義的變數運行以下操作，並解釋結果為何\n",
    "\n",
    "```\n",
    "print(my_int == my_Int)\n",
    "print(my_int != my_Int)\n",
    "print(type(my_int))\n",
    "print(type(my_float))\n",
    "print(type(my_bool)) \n",
    "```\n"
   ]
  },
  {
   "cell_type": "code",
   "execution_count": 20,
   "metadata": {
    "colab": {},
    "colab_type": "code",
    "id": "e1gVI0tvsvFY",
    "scrolled": true
   },
   "outputs": [
    {
     "name": "stdout",
     "output_type": "stream",
     "text": [
      "False\n",
      "7 is not equal to 3. \n",
      "====================\n",
      "True\n",
      "!= is not equal, it is True when 7 is not equal to 3. \n",
      "====================\n",
      "<class 'int'>\n",
      "The type of 7 is int64. \n",
      "====================\n",
      "<class 'float'>\n",
      "The type of 1.23 is float. \n",
      "====================\n",
      "<class 'bool'>\n",
      "Boolean was defined \"True\" => 1 and \"False\" => 0. \n",
      "====================\n"
     ]
    }
   ],
   "source": [
    "print(my_int == my_Int)\n",
    "print('7 is not equal to 3. \\n====================')\n",
    "print(my_int != my_Int)\n",
    "print('!= is not equal, it is True when 7 is not equal to 3. \\n====================')\n",
    "print(type(my_int))\n",
    "print('The type of 7 is int64. \\n====================')\n",
    "print(type(my_float))\n",
    "print('The type of 1.23 is float. \\n====================')\n",
    "print(type(my_bool)) \n",
    "print('Boolean was defined \"True\" => 1 and \"False\" => 0. \\n====================')"
   ]
  },
  {
   "cell_type": "code",
   "execution_count": null,
   "metadata": {},
   "outputs": [],
   "source": []
  }
 ],
 "metadata": {
  "colab": {
   "name": "Day_023_HW.ipynb",
   "provenance": []
  },
  "kernelspec": {
   "display_name": "Python 3",
   "language": "python",
   "name": "python3"
  },
  "language_info": {
   "codemirror_mode": {
    "name": "ipython",
    "version": 3
   },
   "file_extension": ".py",
   "mimetype": "text/x-python",
   "name": "python",
   "nbconvert_exporter": "python",
   "pygments_lexer": "ipython3",
   "version": "3.7.6"
  }
 },
 "nbformat": 4,
 "nbformat_minor": 1
}
